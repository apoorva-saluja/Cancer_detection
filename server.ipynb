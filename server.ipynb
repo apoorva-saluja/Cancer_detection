{
 "cells": [
  {
   "cell_type": "code",
   "execution_count": null,
   "id": "d9cf3c53-7b7e-4fa8-96e5-8d419d2c29a5",
   "metadata": {},
   "outputs": [],
   "source": [
    "import cv2\n",
    "import socket\n",
    "import struct\n",
    "import pickle\n",
    "\n",
    "# Initialize socket\n",
    "server_socket = socket.socket(socket.AF_INET, socket.SOCK_STREAM)\n",
    "server_socket.bind(('0.0.0.0', 9999))\n",
    "server_socket.listen(1)\n",
    "\n",
    "# Accept client connection\n",
    "client_socket, addr = server_socket.accept()\n",
    "\n",
    "# Initialize OpenCV Video Capture\n",
    "cap = cv2.VideoCapture(0)\n",
    "\n",
    "while True:\n",
    "    ret, frame = cap.read()\n",
    "    if not ret:\n",
    "        break\n",
    "\n",
    "    # Compress frame\n",
    "    frame = cv2.resize(frame, (640, 480))  # Resize for faster transmission\n",
    "    encoded, buffer = cv2.imencode('.jpg', frame)\n",
    "    \n",
    "    # Serialize frame\n",
    "    data = pickle.dumps(buffer)\n",
    "    size = len(data)\n",
    "\n",
    "    # Send frame size first, then the data\n",
    "    client_socket.sendall(struct.pack(\">L\", size) + data)\n",
    "\n",
    "cap.release()\n",
    "client_socket.close()\n",
    "server_socket.close()\n"
   ]
  }
 ],
 "metadata": {
  "kernelspec": {
   "display_name": "Python 3 (ipykernel)",
   "language": "python",
   "name": "python3"
  },
  "language_info": {
   "codemirror_mode": {
    "name": "ipython",
    "version": 3
   },
   "file_extension": ".py",
   "mimetype": "text/x-python",
   "name": "python",
   "nbconvert_exporter": "python",
   "pygments_lexer": "ipython3",
   "version": "3.11.7"
  }
 },
 "nbformat": 4,
 "nbformat_minor": 5
}
